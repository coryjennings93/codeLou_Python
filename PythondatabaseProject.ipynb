{
 "cells": [
  {
   "cell_type": "code",
   "execution_count": 2,
   "metadata": {},
   "outputs": [],
   "source": [
    "import pandas as pd\n",
    "import csv\n",
    "import os\n",
    "import sqlite3\n",
    "\n",
    "db = sqlite3.connect(\"first_database.db\")\n",
    "file2 = \"Sacramentorealestatetransactions2.csv\"\n",
    "#file = \"/Users/arnica/Documents/coding/Python_Jupyter/PythonForDataAnalysis/codeLou_Python/Sacramentorealestatetransactions2.csv\"\n",
    "#url = \"https://raw.githubusercontent.com/mathcoder3141/blog-data-files/master/Congress_White_House.csv\"\n",
    "#url2 = \"https://raw.githubusercontent.com/coryjennings93/codeLou_Python/master/Sacramentorealestatetransactions2.csv\"\n",
    "\n",
    "\n",
    "def run_query(query):\n",
    "    return pd.read_sql_query(query,db)"
   ]
  },
  {
   "cell_type": "code",
   "execution_count": 12,
   "metadata": {},
   "outputs": [
    {
     "data": {
      "text/plain": [
       "False"
      ]
     },
     "execution_count": 12,
     "metadata": {},
     "output_type": "execute_result"
    }
   ],
   "source": [
    "os.path.isfile('file2')"
   ]
  },
  {
   "cell_type": "code",
   "execution_count": 13,
   "metadata": {},
   "outputs": [
    {
     "data": {
      "text/plain": [
       "True"
      ]
     },
     "execution_count": 13,
     "metadata": {},
     "output_type": "execute_result"
    }
   ],
   "source": [
    "os.path.isfile('/Users/arnica/Documents/coding/Python_Jupyter/PythonForDataAnalysis/codeLou_Python/Sacramentorealestatetransactions2.csv')"
   ]
  },
  {
   "cell_type": "code",
   "execution_count": 30,
   "metadata": {},
   "outputs": [
    {
     "name": "stdout",
     "output_type": "stream",
     "text": [
      "             street        city    zip state  beds  baths  sqft         type  \\\n",
      "0      3526 HIGH ST  SACRAMENTO  95838    CA     2      1   836  Residential   \n",
      "1       51 OMAHA CT  SACRAMENTO  95823    CA     3      1  1167  Residential   \n",
      "2    2796 BRANCH ST  SACRAMENTO  95815    CA     2      1   796  Residential   \n",
      "3  2805 JANETTE WAY  SACRAMENTO  95815    CA     2      1   852  Residential   \n",
      "4   6001 MCMAHON DR  SACRAMENTO  95824    CA     2      1   797  Residential   \n",
      "\n",
      "                       saledate  price   latitude   longitude  \n",
      "0  Wed May 21 00:00:00 EDT 2008  59222  38.631913 -121.434879  \n",
      "1  Wed May 21 00:00:00 EDT 2008  68212  38.478902 -121.431028  \n",
      "2  Wed May 21 00:00:00 EDT 2008  68880  38.618305 -121.443839  \n",
      "3  Wed May 21 00:00:00 EDT 2008  69307  38.616835 -121.439146  \n",
      "4  Wed May 21 00:00:00 EDT 2008  81900  38.519470 -121.435768  \n"
     ]
    }
   ],
   "source": [
    "df = pd.read_csv(file2)\n",
    "print(df)\n",
    "\n"
   ]
  },
  {
   "cell_type": "code",
   "execution_count": 31,
   "metadata": {},
   "outputs": [],
   "source": [
    "df.to_sql(\"address\", db, if_exists=\"replace\")"
   ]
  },
  {
   "cell_type": "code",
   "execution_count": 33,
   "metadata": {},
   "outputs": [
    {
     "data": {
      "text/html": [
       "<div>\n",
       "<style scoped>\n",
       "    .dataframe tbody tr th:only-of-type {\n",
       "        vertical-align: middle;\n",
       "    }\n",
       "\n",
       "    .dataframe tbody tr th {\n",
       "        vertical-align: top;\n",
       "    }\n",
       "\n",
       "    .dataframe thead th {\n",
       "        text-align: right;\n",
       "    }\n",
       "</style>\n",
       "<table border=\"1\" class=\"dataframe\">\n",
       "  <thead>\n",
       "    <tr style=\"text-align: right;\">\n",
       "      <th></th>\n",
       "      <th>city</th>\n",
       "    </tr>\n",
       "  </thead>\n",
       "  <tbody>\n",
       "    <tr>\n",
       "      <th>0</th>\n",
       "      <td>SACRAMENTO</td>\n",
       "    </tr>\n",
       "    <tr>\n",
       "      <th>1</th>\n",
       "      <td>SACRAMENTO</td>\n",
       "    </tr>\n",
       "    <tr>\n",
       "      <th>2</th>\n",
       "      <td>SACRAMENTO</td>\n",
       "    </tr>\n",
       "    <tr>\n",
       "      <th>3</th>\n",
       "      <td>SACRAMENTO</td>\n",
       "    </tr>\n",
       "    <tr>\n",
       "      <th>4</th>\n",
       "      <td>SACRAMENTO</td>\n",
       "    </tr>\n",
       "  </tbody>\n",
       "</table>\n",
       "</div>"
      ],
      "text/plain": [
       "         city\n",
       "0  SACRAMENTO\n",
       "1  SACRAMENTO\n",
       "2  SACRAMENTO\n",
       "3  SACRAMENTO\n",
       "4  SACRAMENTO"
      ]
     },
     "execution_count": 33,
     "metadata": {},
     "output_type": "execute_result"
    }
   ],
   "source": [
    "query = \"\"\"\n",
    "SELECT city \n",
    "FROM address;\n",
    "\"\"\"\n",
    "run_query(query)"
   ]
  },
  {
   "cell_type": "code",
   "execution_count": 17,
   "metadata": {},
   "outputs": [
    {
     "data": {
      "text/html": [
       "<div>\n",
       "<style scoped>\n",
       "    .dataframe tbody tr th:only-of-type {\n",
       "        vertical-align: middle;\n",
       "    }\n",
       "\n",
       "    .dataframe tbody tr th {\n",
       "        vertical-align: top;\n",
       "    }\n",
       "\n",
       "    .dataframe thead th {\n",
       "        text-align: right;\n",
       "    }\n",
       "</style>\n",
       "<table border=\"1\" class=\"dataframe\">\n",
       "  <thead>\n",
       "    <tr style=\"text-align: right;\">\n",
       "      <th></th>\n",
       "      <th>type</th>\n",
       "      <th>name</th>\n",
       "      <th>tbl_name</th>\n",
       "      <th>rootpage</th>\n",
       "      <th>sql</th>\n",
       "    </tr>\n",
       "  </thead>\n",
       "  <tbody>\n",
       "    <tr>\n",
       "      <th>0</th>\n",
       "      <td>table</td>\n",
       "      <td>address</td>\n",
       "      <td>address</td>\n",
       "      <td>2</td>\n",
       "      <td>CREATE TABLE \"address\" (\\n\"index\" INTEGER,\\n  ...</td>\n",
       "    </tr>\n",
       "    <tr>\n",
       "      <th>1</th>\n",
       "      <td>index</td>\n",
       "      <td>ix_address_index</td>\n",
       "      <td>address</td>\n",
       "      <td>3</td>\n",
       "      <td>CREATE INDEX \"ix_address_index\"ON \"address\" (\"...</td>\n",
       "    </tr>\n",
       "  </tbody>\n",
       "</table>\n",
       "</div>"
      ],
      "text/plain": [
       "    type              name tbl_name  rootpage  \\\n",
       "0  table           address  address         2   \n",
       "1  index  ix_address_index  address         3   \n",
       "\n",
       "                                                 sql  \n",
       "0  CREATE TABLE \"address\" (\\n\"index\" INTEGER,\\n  ...  \n",
       "1  CREATE INDEX \"ix_address_index\"ON \"address\" (\"...  "
      ]
     },
     "execution_count": 17,
     "metadata": {},
     "output_type": "execute_result"
    }
   ],
   "source": [
    "query = \"\"\"\n",
    "SELECT * \n",
    "FROM sqlite_master\n",
    "ORDER BY name;\n",
    "\"\"\"\n",
    "run_query(query)"
   ]
  },
  {
   "cell_type": "code",
   "execution_count": 18,
   "metadata": {},
   "outputs": [],
   "source": [
    "#cur = db.cursor()"
   ]
  },
  {
   "cell_type": "code",
   "execution_count": 19,
   "metadata": {},
   "outputs": [],
   "source": [
    "#cur.execute(\"select * from address;\")"
   ]
  },
  {
   "cell_type": "code",
   "execution_count": 3,
   "metadata": {},
   "outputs": [],
   "source": [
    "#cur.close()\n",
    "db.close()"
   ]
  },
  {
   "cell_type": "code",
   "execution_count": null,
   "metadata": {},
   "outputs": [],
   "source": []
  }
 ],
 "metadata": {
  "kernelspec": {
   "display_name": "Python 3",
   "language": "python",
   "name": "python3"
  },
  "language_info": {
   "codemirror_mode": {
    "name": "ipython",
    "version": 3
   },
   "file_extension": ".py",
   "mimetype": "text/x-python",
   "name": "python",
   "nbconvert_exporter": "python",
   "pygments_lexer": "ipython3",
   "version": "3.7.3"
  }
 },
 "nbformat": 4,
 "nbformat_minor": 2
}
