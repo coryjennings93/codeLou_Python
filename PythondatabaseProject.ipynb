{
 "cells": [
  {
   "cell_type": "code",
   "execution_count": 1,
   "metadata": {},
   "outputs": [],
   "source": [
    "import pandas as pd\n",
    "import csv\n",
    "import os\n",
    "file = \"/Users/arnica/Documents/coding/Python_Jupyter/PythonForDataAnalysis/codeLou_Python/Sacramentorealestatetransactions2.csv\"\n",
    "url = \"https://raw.githubusercontent.com/mathcoder3141/blog-data-files/master/Congress_White_House.csv\""
   ]
  },
  {
   "cell_type": "code",
   "execution_count": 2,
   "metadata": {},
   "outputs": [
    {
     "data": {
      "text/plain": [
       "True"
      ]
     },
     "execution_count": 2,
     "metadata": {},
     "output_type": "execute_result"
    }
   ],
   "source": [
    "os.path.isfile('/Users/arnica/Documents/coding/Python_Jupyter/PythonForDataAnalysis/codeLou_Python/Sacramentorealestatetransactions2.csv')"
   ]
  },
  {
   "cell_type": "code",
   "execution_count": 3,
   "metadata": {},
   "outputs": [
    {
     "name": "stdout",
     "output_type": "stream",
     "text": [
      "                                0                1          2          3  \\\n",
      "0                   Employee Name  Employee Status     Salary  Pay Basis   \n",
      "1                 Abrams, Adam W.         Employee   66300.00  Per Annum   \n",
      "2                   Adams, Ian H.         Employee   45000.00  Per Annum   \n",
      "3                 Agnew, David P.         Employee   93840.00  Per Annum   \n",
      "4                  Albino, James          Employee   91800.00  Per Annum   \n",
      "5            Aldy, Jr., Joseph E.         Employee  130500.00  Per Annum   \n",
      "6                Alley, Hilary J.         Employee   42000.00  Per Annum   \n",
      "7            Amorsingh, Lucius L.         Employee   56092.00  Per Annum   \n",
      "8             Anderson, Amanda D.         Employee   60000.00  Per Annum   \n",
      "9            Anderson, Charles D.         Employee   51000.00  Per Annum   \n",
      "10               Andrias, Kate E.         Employee  130500.00  Per Annum   \n",
      "11             Anello, Russell M.         Employee   66300.00  Per Annum   \n",
      "12              Asen, Jonathan D.         Employee   42000.00  Per Annum   \n",
      "13             Attili, Candice L.         Employee   58511.00  Per Annum   \n",
      "14              Axelrod, David M.         Employee  172200.00  Per Annum   \n",
      "15             Ayling, Lindsay A.         Employee   42000.00  Per Annum   \n",
      "16             Baggetto, Maude L.         Employee   42000.00  Per Annum   \n",
      "17       Baldassaro, Frederick J.         Detailee  122744.00  Per Annum   \n",
      "18              Barnes, Melody C.         Employee  172200.00  Per Annum   \n",
      "19   Baskerville, Jr., Chester A.         Employee   47532.00  Per Annum   \n",
      "20                 Bassin, Ian M.         Employee   99000.00  Per Annum   \n",
      "21               Bates, Andrew J.         Employee   42000.00  Per Annum   \n",
      "22             Bauer, Nicholas T.         Employee   55000.00  Per Annum   \n",
      "23               Bauer, Robert F.         Employee  172200.00  Per Annum   \n",
      "24             Becnel, Bradley D.         Employee   55000.00  Per Annum   \n",
      "25      Bedingfield, Katherine J.         Employee   90000.00  Per Annum   \n",
      "26              Beinart, Diana H.         Employee  130500.00  Per Annum   \n",
      "27              Belive, Lauren E.         Employee   45000.00  Per Annum   \n",
      "28            Beliveau, Emmett S.         Employee  130000.00  Per Annum   \n",
      "29              Bernard, Sarah C.         Employee   70000.00  Per Annum   \n",
      "..                            ...              ...        ...        ...   \n",
      "440           Verrilli, Donald B.         Employee  158500.00  Per Annum   \n",
      "441             Vietor, Thomas F.         Employee   78000.00  Per Annum   \n",
      "442             Vogel, Matthew A.         Employee   71400.00  Per Annum   \n",
      "443             Voorman, David A.         Employee   45594.00  Per Annum   \n",
      "444                Wade, David L.         Employee   55000.00  Per Annum   \n",
      "445              Wade, Frances J.         Employee   44402.00  Per Annum   \n",
      "446                Walsh, Joan L.         Employee   60000.00  Per Annum   \n",
      "447             Wang-Levine, Adam         Employee   55080.00  Per Annum   \n",
      "448             Watkins, Kyle D.          Employee   45000.00  Per Annum   \n",
      "449            Watson, Takesha R.         Employee   43860.00  Per Annum   \n",
      "450              Wear, Michael R.         Employee   45900.00  Per Annum   \n",
      "451          Webster, Meridith A.         Employee  120000.00  Per Annum   \n",
      "452             Weiser, Philip J.         Detailee  172000.00  Per Annum   \n",
      "453        Whichard, IV, David J.         Employee   45900.00  Per Annum   \n",
      "454                   White, Cleo         Detailee   65393.00  Per Annum   \n",
      "455            Whitty, Patrick M.         Employee   45000.00  Per Annum   \n",
      "456            Williams, Marie J.         Employee   55000.00  Per Annum   \n",
      "457          Williams, Sherman A.         Employee   74958.00  Per Annum   \n",
      "458             Wilson, Denise R.         Employee  130500.00  Per Annum   \n",
      "459             Wilson, Samuel A.         Employee   45000.00  Per Annum   \n",
      "460               Winter, Melissa         Employee  102000.00  Per Annum   \n",
      "461                 Witt, Abigail         Employee   45000.00  Per Annum   \n",
      "462                Wong, Shale L.         Employee       0.00  Per Annum   \n",
      "463            Wright, Jessica N.         Employee   96900.00  Per Annum   \n",
      "464    Yeager Kaplan, Jennifer F.         Employee   66300.00  Per Annum   \n",
      "465       Young, Jr., Reginald D.         Employee   60232.00  Per Annum   \n",
      "466           Young, Katherine H.         Employee   42000.00  Per Annum   \n",
      "467              Young, Latoya A.         Employee   58511.00  Per Annum   \n",
      "468            Zelman, Allison L.         Employee   50000.00  Per Annum   \n",
      "469            Zichal, Heather R.         Employee  100000.00  Per Annum   \n",
      "\n",
      "                                                     4  \n",
      "0                                       Position Title  \n",
      "1             WESTERN REGIONAL COMMUNICATIONS DIRECTOR  \n",
      "2    EXECUTIVE ASSISTANT TO THE DIRECTOR OF SCHEDUL...  \n",
      "3         DEPUTY DIRECTOR OF INTERGOVERNMENTAL AFFAIRS  \n",
      "4                               SENIOR PROGRAM MANAGER  \n",
      "5    SPECIAL ASSISTANT TO THE PRESIDENT FOR ENERGY ...  \n",
      "6                                      STAFF ASSISTANT  \n",
      "7                                    SPECIAL ASSISTANT  \n",
      "8              SPECIAL ASSISTANT TO THE CHIEF OF STAFF  \n",
      "9                                     POLICY ASSISTANT  \n",
      "10   SPECIAL ASSISTANT TO THE PRESIDENT AND ASSOCIA...  \n",
      "11                                             COUNSEL  \n",
      "12                                      SENIOR ANALYST  \n",
      "13                              ASSISTANT SHIFT LEADER  \n",
      "14       ASSISTANT TO THE PRESIDENT AND SENIOR ADVISOR  \n",
      "15                                             ANALYST  \n",
      "16                                     STAFF ASSISTANT  \n",
      "17                             COMMUNICATIONS DIRECTOR  \n",
      "18   ASSISTANT TO THE PRESIDENT AND DIRECTOR OF THE...  \n",
      "19                              ASSISTANT SHIFT LEADER  \n",
      "20                            DEPUTY ASSOCIATE COUNSEL  \n",
      "21                                       MEDIA MONITOR  \n",
      "22                                  ASSOCIATE DIRECTOR  \n",
      "23   ASSISTANT TO THE PRESIDENT AND COUNSEL TO THE ...  \n",
      "24                  SPECIAL ASSISTANT AND ADVANCE LEAD  \n",
      "25                   DEPUTY DIRECTOR FOR MEDIA AFFAIRS  \n",
      "26   SPECIAL ASSISTANT TO THE PRESIDENT AND ASSOCIA...  \n",
      "27      LEGISLATIVE ASSISTANT AND ASSISTANT FOR EVENTS  \n",
      "28   DEPUTY ASSISTANT TO THE PRESIDENT AND DIRECTOR...  \n",
      "29                         DIRECTOR, ONLINE ENGAGEMENT  \n",
      "..                                                 ...  \n",
      "440  DEPUTY ASSISTANT TO THE PRESIDENT AND DEPUTY C...  \n",
      "441                          ASSISTANT PRESS SECRETARY  \n",
      "442  ASSOCIATE DIRECTOR OF COMMUNICATIONS FOR ECONO...  \n",
      "443                         RECORDS MANAGEMENT ANALYST  \n",
      "444                                 ASSOCIATE DIRECTOR  \n",
      "445                         RECORDS MANAGEMENT ANALYST  \n",
      "446                          ASSISTANT STAFF SECRETARY  \n",
      "447                                     POLICY ADVISOR  \n",
      "448  SPECIAL ASSISTANT TO THE DEPUTY ASSISTANT TO T...  \n",
      "449                          SPECIAL SERVICES OPERATOR  \n",
      "450      EXECUTIVE ASSISTANT TO THE EXECUTIVE DIRECTOR  \n",
      "451  SPECIAL ASSISTANT TO THE PRESIDENT AND SENIOR ...  \n",
      "452  SENIOR ADVISOR FOR TECHNOLOGY AND INNOVATION T...  \n",
      "453            ASSOCIATE DIRECTOR AND TRIP COORDINATOR  \n",
      "454                                            ANALYST  \n",
      "455                                EXECUTIVE ASSISTANT  \n",
      "456                    BOARDS AND COMMISSIONS DIRECTOR  \n",
      "457                   ASSISTANT TO THE EXECUTIVE CLERK  \n",
      "458  SPECIAL ASSISTANT TO THE PRESIDENT FOR LEGISLA...  \n",
      "459                DEPUTY DIRECTOR FOR BROADCAST MEDIA  \n",
      "460  SPECIAL ASSISTANT TO THE PRESIDENT AND DEPUTY ...  \n",
      "461  SPECIAL ASSISTANT TO THE CHIEF OF STAFF OF THE...  \n",
      "462                                     POLICY ADVISOR  \n",
      "463    DEPUTY DIRECTOR OF SCHEDULING FOR THE PRESIDENT  \n",
      "464  SPECIAL ASSISTANT TO THE DIRECTOR OF PUBLIC EN...  \n",
      "465                         RECORDS MANAGEMENT ANALYST  \n",
      "466                                    STAFF ASSISTANT  \n",
      "467                         RECORDS MANAGEMENT ANALYST  \n",
      "468                                   POLICY ASSISTANT  \n",
      "469  DEPUTY ASSISTANT TO THE PRESIDENT FOR ENERGY A...  \n",
      "\n",
      "[470 rows x 5 columns]\n"
     ]
    }
   ],
   "source": [
    "df = pd.read_csv(url, header = None)\n",
    "print(df)"
   ]
  },
  {
   "cell_type": "code",
   "execution_count": null,
   "metadata": {},
   "outputs": [],
   "source": []
  }
 ],
 "metadata": {
  "kernelspec": {
   "display_name": "Python 3",
   "language": "python",
   "name": "python3"
  },
  "language_info": {
   "codemirror_mode": {
    "name": "ipython",
    "version": 3
   },
   "file_extension": ".py",
   "mimetype": "text/x-python",
   "name": "python",
   "nbconvert_exporter": "python",
   "pygments_lexer": "ipython3",
   "version": "3.7.3"
  }
 },
 "nbformat": 4,
 "nbformat_minor": 2
}
